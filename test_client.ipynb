{
 "cells": [
  {
   "cell_type": "markdown",
   "metadata": {},
   "source": [
    "# Client demo\n",
    "\n",
    "Demonstrate the use of the Client (Assetto Corsa Sim interface) without the OpenAI Gym interface layer."
   ]
  },
  {
   "cell_type": "code",
   "execution_count": null,
   "metadata": {},
   "outputs": [],
   "source": [
    "%matplotlib inline\n",
    "\n",
    "import matplotlib.pyplot as plt\n",
    "import sys\n",
    "import os\n",
    "import numpy as np\n",
    "import pandas as pd\n",
    "import glob as glob\n",
    "import time\n",
    "import pickle\n",
    "from omegaconf import OmegaConf\n",
    "\n",
    "# add custom paths\n",
    "sys.path.extend([os.path.abspath('./assetto_corsa_gym')])\n",
    "import AssettoCorsaEnv.assettoCorsa as assettoCorsa\n",
    "\n",
    "# Configure the logging system\n",
    "import logging\n",
    "logger = logging.getLogger(__name__)\n",
    "logging.basicConfig(\n",
    "    level=logging.INFO,  # Set the logging level (DEBUG, INFO, WARNING, ERROR, CRITICAL)\n",
    "    format='%(asctime)s - %(name)s - %(levelname)s - %(message)s',  # Format of the log messages\n",
    "    datefmt='%Y-%m-%d %H:%M:%S',  # Format of the timestamp\n",
    ")\n"
   ]
  },
  {
   "cell_type": "markdown",
   "metadata": {},
   "source": [
    "# load config file"
   ]
  },
  {
   "cell_type": "code",
   "execution_count": null,
   "metadata": {},
   "outputs": [],
   "source": [
    "config = OmegaConf.load(\"config.yml\")\n",
    "client = assettoCorsa.make_client_only(config.AssettoCorsa)"
   ]
  },
  {
   "cell_type": "markdown",
   "metadata": {},
   "source": [
    "# Show static info"
   ]
  },
  {
   "cell_type": "code",
   "execution_count": null,
   "metadata": {},
   "outputs": [],
   "source": [
    "static_info = client.simulation_management.get_static_info()\n",
    "ac_mod_config = client.simulation_management.get_config()\n",
    "\n",
    "logger.info(\"Static info:\")\n",
    "for i in static_info:\n",
    "    logger.info(f\"{i}: {static_info[i]}\")\n",
    "logger.info(\"AC Mod config:\")\n",
    "for i in ac_mod_config:\n",
    "    logger.info(f\"{i}: {ac_mod_config[i]}\")\n"
   ]
  },
  {
   "cell_type": "markdown",
   "metadata": {},
   "source": [
    "# Apply actions and recover the car"
   ]
  },
  {
   "cell_type": "code",
   "execution_count": null,
   "metadata": {},
   "outputs": [],
   "source": [
    "states = []\n",
    "\n",
    "client.reset()\n",
    "\n",
    "for i in range(100):\n",
    "    if i % 2 == 0:\n",
    "        steer = .5\n",
    "    else:\n",
    "        steer = -.1\n",
    "    client.controls.set_controls(steer=steer, acc=0.5, brake=-1.)\n",
    "    client.respond_to_server()\n",
    "    state = client.step_sim()\n",
    "    states.append(state.copy())\n",
    "    time.sleep(0.01)\n",
    "\n",
    "client.controls.set_defaults()\n",
    "client.respond_to_server()\n",
    "client.simulation_management.send_reset()\n",
    "client.close()"
   ]
  },
  {
   "cell_type": "markdown",
   "metadata": {},
   "source": [
    "# Plot states"
   ]
  },
  {
   "cell_type": "code",
   "execution_count": null,
   "metadata": {},
   "outputs": [],
   "source": [
    "df = pd.DataFrame(states)\n",
    "df.columns"
   ]
  },
  {
   "cell_type": "code",
   "execution_count": null,
   "metadata": {},
   "outputs": [],
   "source": [
    "plt.title(\"Speed\")\n",
    "plt.plot(df.speed)\n",
    "plt.show()\n",
    "\n",
    "plt.title(\"steerAngle\")\n",
    "plt.plot(df.steerAngle)\n",
    "plt.show()"
   ]
  }
 ],
 "metadata": {
  "kernelspec": {
   "display_name": "p309",
   "language": "python",
   "name": "python3"
  },
  "language_info": {
   "codemirror_mode": {
    "name": "ipython",
    "version": 3
   },
   "file_extension": ".py",
   "mimetype": "text/x-python",
   "name": "python",
   "nbconvert_exporter": "python",
   "pygments_lexer": "ipython3",
   "version": "3.9.16"
  }
 },
 "nbformat": 4,
 "nbformat_minor": 4
}
